{
  "nbformat": 4,
  "nbformat_minor": 0,
  "metadata": {
    "colab": {
      "name": "병아리반5주차미션(죠이).ipynb",
      "provenance": [],
      "collapsed_sections": [],
      "authorship_tag": "ABX9TyOaKJCjPDo+L1W6k9msTOk7",
      "include_colab_link": true
    },
    "kernelspec": {
      "name": "python3",
      "display_name": "Python 3"
    },
    "language_info": {
      "name": "python"
    }
  },
  "cells": [
    {
      "cell_type": "markdown",
      "metadata": {
        "id": "view-in-github",
        "colab_type": "text"
      },
      "source": [
        "<a href=\"https://colab.research.google.com/github/soave424/pythondata/blob/main/%EB%B3%91%EC%95%84%EB%A6%AC%EB%B0%985%EC%A3%BC%EC%B0%A8%EB%AF%B8%EC%85%98(%EC%A3%A0%EC%9D%B4).ipynb\" target=\"_parent\"><img src=\"https://colab.research.google.com/assets/colab-badge.svg\" alt=\"Open In Colab\"/></a>"
      ]
    },
    {
      "cell_type": "markdown",
      "source": [
        "# 개인프로젝트\n",
        "- 1인 1역 정하기 \n",
        "1. 1인 1역 이름 / 내용  입력 (csv)\n",
        "2. 학생 명단 (csv) \n",
        "3. 역할별 학생 수 정하기 \n",
        "4. 학생 배정 (랜덤) \n",
        "5. 순서대로 다음 역할 나오는 옵션 / 랜덤 옵션\n",
        "6. 랜덤으로 했을 때 몇 번씩 했는지 그래프 \n",
        "7. 만약 3번 이상 반복이면 다른 역할 배정 \n",
        "8. 학생 이름 입력하면 역할과 하는 일 설명 소개"
      ],
      "metadata": {
        "id": "AHV1ir8o8D4d"
      }
    },
    {
      "cell_type": "code",
      "execution_count": null,
      "metadata": {
        "id": "UBBtRGiU7_Mw"
      },
      "outputs": [],
      "source": [
        "!apt-get install fonts-nanum -qq > /dev/null\n",
        "!fc-cache -fv\n",
        "import matplotlib as mpl\n",
        "plt.rc('font', family = 'NanumGothic')\n",
        "plt.rcParams['axes.unicode_minus'] = False\n",
        "mpl.font_manager._rebuild()\n",
        "findfont = mpl.font_manager.fontManager.findfont\n",
        "mpl.font_manager.findfont = findfont\n",
        "mpl.backends.backend_agg.findfont = findfont"
      ]
    },
    {
      "cell_type": "code",
      "source": [
        "# 1인 1역과 학생 명단 파일 올리기 \n",
        "from google.colab import files\n",
        "files.upload()"
      ],
      "metadata": {
        "id": "68vsnOyh7NHo"
      },
      "execution_count": null,
      "outputs": []
    },
    {
      "cell_type": "code",
      "source": [
        "# CSV 파일 리스트로 만들기 (1인 1역, 학생명단) \n",
        "\n",
        "import csv # 라이브러리 \n",
        "data_s = csv.reader(open('student.csv')) # 파일 읽기\n",
        "data_r = csv.reader(open('roll.csv'))\n",
        "next(data_r) # 데이터 처리 \n",
        "next(data_s)\n",
        "rollper = {} # 역할별 인원 수 체크 \n",
        "rolllist={}  # 역할 이름과 하는 일\n",
        "rollall = [] # 역할 수 만큼 리스트 생성\n",
        "student = [] # 학생 명단 \n",
        "for row in data_r :  # 역할 데이터 처리 \n",
        "  rolllist[row[0]]=row[1]\n",
        "  rollper[row[0]]=int(row[2])\n",
        "  for i in range(int(row[2])):\n",
        "    rollall.append(row[0])\n",
        "for name in data_s : # 학생 명단 리스트화 \n",
        "  student.append(name[1])"
      ],
      "metadata": {
        "id": "YRj-v8hp5-dP"
      },
      "execution_count": 15,
      "outputs": []
    },
    {
      "cell_type": "code",
      "source": [
        "# 학생명단 리스트와 1인 1역 리스트 일대일 대응 (순서대로) -> 함수로 만들어서 반복 사용 \n",
        "match = {K:V for K, V in zip(student, rollall)} #딕셔너리 컴프리헨션\n",
        "print(match)"
      ],
      "metadata": {
        "id": "ojosPX6-6C30",
        "colab": {
          "base_uri": "https://localhost:8080/"
        },
        "outputId": "09e033c6-fa08-4efc-e1ae-ece567c1585d"
      },
      "execution_count": 16,
      "outputs": [
        {
          "output_type": "stream",
          "name": "stdout",
          "text": [
            "{'강승기': '급식', '김이준': '급식', '김진휘': '급식', '박상진': '급식', '서태웅': '급식', '신승민': '검사', '오윤호': '교실 앞 쓸기', '윤민준': '교실 뒤 쓸기', '이준혁': '칠판', '홍윤기': '칠판', '홍준기': '복도 쓸기', '황유찬': '복도 쓸기', '강민서': '1분단 쓸기', '김민정': '2분단 쓸기', '김서진': '3분단 쓸기', '김소은': '창틀', '김예슬': '창틀', '원예봄': '신발장', '이시온': '신발장', '이준이': '책장', '장하린': '쓰레기통 비우기', '정유리': '쓰레기통 비우기', '정하윤': '분리수거', '하예린': '분리수거'}\n"
          ]
        }
      ]
    },
    {
      "cell_type": "code",
      "source": [
        "# 역할 순서에서 하나씩 이동하여 일대일 대응 (학생명단은 고정)"
      ],
      "metadata": {
        "id": "7NYRLfz26byH"
      },
      "execution_count": null,
      "outputs": []
    },
    {
      "cell_type": "code",
      "source": [
        "# 역할 순서를 랜덤으로 섞어서 일대일 대응 (학생명단은 고정)\n",
        "import random "
      ],
      "metadata": {
        "id": "RjXwBAtt6MG3"
      },
      "execution_count": null,
      "outputs": []
    },
    {
      "cell_type": "code",
      "source": [
        "# 학생별 리스트를 만들어서 맡은 역할을 누적해가기 \n",
        "# (역할 순서를 섞거나 이동한 뒤 그 리스트를 순서대로 넣고 일대일 대응으로 보내기)\n",
        "student_roll = []\n",
        "for name in student :\n",
        "  student_roll.append([])"
      ],
      "metadata": {
        "id": "XNnlN1966g_q",
        "colab": {
          "base_uri": "https://localhost:8080/"
        },
        "outputId": "a5308efd-dfb5-4ef1-b4c4-0a7586f75e6c"
      },
      "execution_count": 17,
      "outputs": [
        {
          "output_type": "stream",
          "name": "stdout",
          "text": [
            "[[], [], [], [], [], [], [], [], [], [], [], [], [], [], [], [], [], [], [], [], [], [], [], []]\n"
          ]
        }
      ]
    },
    {
      "cell_type": "code",
      "source": [
        "# 누적 데이터를 가지고 그래프 만들어보기 "
      ],
      "metadata": {
        "id": "e30aRBVz6lVi"
      },
      "execution_count": null,
      "outputs": []
    },
    {
      "cell_type": "code",
      "source": [
        "# (계속 랜덤이 경우에만) 역할이 뽑혔을 때 3번 했으면 다른 역할로 정하기 \n",
        "# 순서대로 했을 경우 이미 다른 학생들이 역할이 다 배정되어 있는 경우면 어떡하지? \n",
        "# 3번인 경우 먼저 찾아서 그 경우 학생을 먼저 배정하고?  \n",
        "# 학생 이름 입력하면 역할과 하는 일 설명하는 창 만들기 "
      ],
      "metadata": {
        "id": "gjoBXqfh6n5F"
      },
      "execution_count": null,
      "outputs": []
    }
  ]
}