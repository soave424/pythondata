{
  "nbformat": 4,
  "nbformat_minor": 0,
  "metadata": {
    "colab": {
      "name": "병아리반5주차미션(죠이).ipynb",
      "provenance": [],
      "collapsed_sections": [],
      "authorship_tag": "ABX9TyO1C6PpxctqiNsiIE+9+AsD",
      "include_colab_link": true
    },
    "kernelspec": {
      "name": "python3",
      "display_name": "Python 3"
    },
    "language_info": {
      "name": "python"
    }
  },
  "cells": [
    {
      "cell_type": "markdown",
      "metadata": {
        "id": "view-in-github",
        "colab_type": "text"
      },
      "source": [
        "<a href=\"https://colab.research.google.com/github/soave424/pythondata/blob/main/%EB%B3%91%EC%95%84%EB%A6%AC%EB%B0%985%EC%A3%BC%EC%B0%A8%EB%AF%B8%EC%85%98(%EC%A3%A0%EC%9D%B4).ipynb\" target=\"_parent\"><img src=\"https://colab.research.google.com/assets/colab-badge.svg\" alt=\"Open In Colab\"/></a>"
      ]
    },
    {
      "cell_type": "markdown",
      "source": [
        "# 개인프로젝트 (1인 1역 정하기) \n",
        "\n",
        "```\n",
        "# 완료\n",
        "1. 1인 1역 이름 / 내용  입력 (csv) \n",
        "2. 학생 명단 (csv) \n",
        "3. 역할별 학생 수 정하기 (csv파일에 숫자 넣어)\n",
        "4. 학생 배정 (랜덤)\n",
        "5. 순서대로 다음 역할 나오는 옵션\n",
        "6. 랜덤으로 했을 때 몇 번씩 했는지 그래프\n",
        "7. 학생 이름 입력하면 역할과 하는 일 설명 소개\n",
        "```\n",
        "<진행중>\n",
        "8. 만약 3번 이상 반복이면 다른 역할 배정 -- 제대로 실행이 안 됨 \n",
        "9. 역할 추가/변경 기능  "
      ],
      "metadata": {
        "id": "AHV1ir8o8D4d"
      }
    },
    {
      "cell_type": "code",
      "execution_count": null,
      "metadata": {
        "id": "UBBtRGiU7_Mw"
      },
      "outputs": [],
      "source": [
        "# 미리 설치\n",
        "# csv 라이브러리 설치 \n",
        "import csv  \n",
        "# 그래프를 만들기 위한 라이브러리 불러오기\n",
        "import matplotlib.pyplot as plt \n",
        "# 랜덤 라이브러리 \n",
        "import random \n",
        "# 그래프 한글 설치 \n",
        "!apt-get install fonts-nanum -qq > /dev/null\n",
        "!fc-cache -fv\n",
        "plt.rc('font', family = 'NanumGothic')\n",
        "plt.rcParams['axes.unicode_minus'] = False\n",
        "mpl.font_manager._rebuild()\n",
        "findfont = mpl.font_manager.fontManager.findfont\n",
        "mpl.font_manager.findfont = findfont\n",
        "mpl.backends.backend_agg.findfont = findfont\n"
      ]
    },
    {
      "cell_type": "code",
      "source": [
        "# 1인 1역과 학생 명단 파일 올리기 \n",
        "from google.colab import files\n",
        "files.upload()"
      ],
      "metadata": {
        "id": "68vsnOyh7NHo"
      },
      "execution_count": null,
      "outputs": []
    },
    {
      "cell_type": "code",
      "source": [
        "# CSV 파일 리스트로 만들기 (1인 1역, 학생명단) \n",
        "data_s = csv.reader(open('student.csv')) # 파일 읽기\n",
        "data_r = csv.reader(open('roll.csv'))\n",
        "next(data_r) # 데이터 처리 \n",
        "next(data_s)\n",
        "rollper = {} # 역할별 인원 수 체크 \n",
        "rolllist={}  # 역할 이름과 하는 일\n",
        "rollall = [] # 역할 수 만큼 리스트 생성\n",
        "student = [] # 학생 명단 \n",
        "for row in data_r :  # 역할 데이터 처리 \n",
        "  rolllist[row[0]]=row[1]\n",
        "  rollper[row[0]]=int(row[2])\n",
        "  for i in range(int(row[2])):\n",
        "    rollall.append(row[0])\n",
        "for name in data_s : # 학생 명단 리스트화 \n",
        "  student.append(name[1])\n",
        "roll_mo = rollall.copy() #학생명단은 고정, 역할을 (순서대로/랜덤) 나눠 실행하기 위해 복제\n",
        "# 학생별 리스트를 만들어서 맡은 역할을 누적해가기 \n",
        "# (역할 순서를 섞거나 이동한 뒤 그 리스트를 순서대로 넣고 일대일 대응으로 보내기)\n",
        "student_roll = []\n",
        "for name in student :\n",
        "  student_roll.append([])\n",
        "# 학생별 역할이 바뀔 때마다 누적해서 기록 \n",
        "def listupgrade() :\n",
        "  a=0\n",
        "  for name in student :\n",
        "    student_roll[a].append(rollall[a])\n",
        "    a=a+1"
      ],
      "metadata": {
        "id": "YRj-v8hp5-dP"
      },
      "execution_count": 3,
      "outputs": []
    },
    {
      "cell_type": "code",
      "source": [
        "# 학생명단 리스트와 1인 1역 리스트 일대일 대응 (순서대로) \n",
        "def match() : \n",
        "  matching = {K:V for K, V in zip(student, rollall)} #딕셔너리 컴프리헨션\n",
        "  return matching\n",
        "match()\n",
        "listupgrade()"
      ],
      "metadata": {
        "id": "ojosPX6-6C30"
      },
      "execution_count": 4,
      "outputs": []
    },
    {
      "cell_type": "code",
      "source": [
        "# 역할 명단 하나씩 이동하기 함수 이용\n",
        "def moveone() : \n",
        "  a=roll_mo[0]\n",
        "  del roll_mo[0]\n",
        "  roll_mo.append(a)\n",
        "# 일대일 대응하여 출력\n",
        "def match(rolllist) : \n",
        "  matching = {K:V for K, V in zip(student, rolllist)} \n",
        "  return matching\n",
        "moveone()\n",
        "listupgrade()\n",
        "print(match(roll_mo))"
      ],
      "metadata": {
        "id": "_bqsKr0dtAZx"
      },
      "execution_count": null,
      "outputs": []
    },
    {
      "cell_type": "code",
      "source": [
        "# 역할 순서를 랜덤으로 섞어서 일대일 대응 (학생명단은 고정)\n",
        "random.shuffle(rollall)\n",
        "listupgrade()\n",
        "print(match(rollall))"
      ],
      "metadata": {
        "id": "RjXwBAtt6MG3"
      },
      "execution_count": null,
      "outputs": []
    },
    {
      "cell_type": "code",
      "source": [
        "# 역할이 뽑혔을 때 3번 이상 했으면 다른 역할로 정하기\n",
        "\n",
        "def rematch() :\n",
        "  random.shuffle(rollall)\n",
        "  for i in range(len(rollall)) : \n",
        "    count={}\n",
        "    for j in student_roll[i]:\n",
        "      try: count[j] += 1\n",
        "      except: count[j]=1\n",
        "    rollname=rollall[i-1]\n",
        "    try : \n",
        "      if count[rollname] > 3:\n",
        "        rematch()\n",
        "    except : KeyError\n",
        "  listupgrade()\n",
        "\n",
        "rematch()"
      ],
      "metadata": {
        "id": "gjoBXqfh6n5F"
      },
      "execution_count": 10,
      "outputs": []
    },
    {
      "cell_type": "code",
      "source": [
        "# 누적 데이터를 가지고 그래프 만들어보기 \n",
        "count={}\n",
        "x=[]\n",
        "y=[]\n",
        "def makedic(list):\n",
        "  for i in list:\n",
        "    try: count[i] += 1\n",
        "    except: count[i]=1\n",
        "  for key in count.keys():\n",
        "    x.append(key)\n",
        "  for value in count.values():\n",
        "    y.append(value)\n",
        "\n",
        "f_name = input(\"학생 이름을 입력 하세요 : \")\n",
        "f_num = student.index(f_name)\n",
        "f_roll = student_roll[f_num][-1]\n",
        "f_do = rolllist[f_roll]\n",
        "print(f\"{f_name}의 이번 주 역할은 - {f_roll} ({f_do}) 입니다\")\n",
        "makedic(student_roll[f_num])\n",
        "plt.bar(x,y)\n",
        "plt.title(f\"{f_name}의 1인 1역 누적 횟수\")\n",
        "plt.xlabel(\"역할\")\n",
        "plt.ylabel(\"횟수\")\n",
        "plt.yticks(sorted(y))\n",
        "\n",
        "plt.show()"
      ],
      "metadata": {
        "id": "e30aRBVz6lVi"
      },
      "execution_count": null,
      "outputs": []
    },
    {
      "cell_type": "markdown",
      "source": [
        ""
      ],
      "metadata": {
        "id": "vbKRXSUhOxh8"
      }
    }
  ]
}