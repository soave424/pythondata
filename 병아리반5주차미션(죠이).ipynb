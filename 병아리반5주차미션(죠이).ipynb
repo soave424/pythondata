{
  "nbformat": 4,
  "nbformat_minor": 0,
  "metadata": {
    "colab": {
      "name": "병아리반5주차미션(죠이).ipynb",
      "provenance": [],
      "authorship_tag": "ABX9TyPFoTDQNA7u5Cl97syDJI7s",
      "include_colab_link": true
    },
    "kernelspec": {
      "name": "python3",
      "display_name": "Python 3"
    },
    "language_info": {
      "name": "python"
    }
  },
  "cells": [
    {
      "cell_type": "markdown",
      "metadata": {
        "id": "view-in-github",
        "colab_type": "text"
      },
      "source": [
        "<a href=\"https://colab.research.google.com/github/soave424/pythondata/blob/main/%EB%B3%91%EC%95%84%EB%A6%AC%EB%B0%985%EC%A3%BC%EC%B0%A8%EB%AF%B8%EC%85%98(%EC%A3%A0%EC%9D%B4).ipynb\" target=\"_parent\"><img src=\"https://colab.research.google.com/assets/colab-badge.svg\" alt=\"Open In Colab\"/></a>"
      ]
    },
    {
      "cell_type": "markdown",
      "source": [
        "# 개인프로젝트\n",
        "- 1인 1역 정하기 \n",
        "1. 1인 1역 이름 / 내용 입력 (csv)\n",
        "2. 학생 명단 (csv) \n",
        "3. 역할별 학생 수 정하기 \n",
        "4. 학생 배정 (랜덤) \n",
        "5. 순서대로 다음 역할 나오는 옵션 / 랜덤 옵션\n",
        "6. 랜덤으로 했을 때 몇 번씩 했는지 그래프 \n",
        "7. 만약 3번 이상 반복이면 다른 역할 배정 "
      ],
      "metadata": {
        "id": "AHV1ir8o8D4d"
      }
    },
    {
      "cell_type": "code",
      "execution_count": null,
      "metadata": {
        "id": "UBBtRGiU7_Mw"
      },
      "outputs": [],
      "source": [
        ""
      ]
    }
  ]
}