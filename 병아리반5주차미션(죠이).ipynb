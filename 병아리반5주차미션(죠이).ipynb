{
  "nbformat": 4,
  "nbformat_minor": 0,
  "metadata": {
    "colab": {
      "name": "병아리반5주차미션(죠이).ipynb",
      "provenance": [],
      "authorship_tag": "ABX9TyO/eJM/9QYSU4HHIyGapvos",
      "include_colab_link": true
    },
    "kernelspec": {
      "name": "python3",
      "display_name": "Python 3"
    },
    "language_info": {
      "name": "python"
    }
  },
  "cells": [
    {
      "cell_type": "markdown",
      "metadata": {
        "id": "view-in-github",
        "colab_type": "text"
      },
      "source": [
        "<a href=\"https://colab.research.google.com/github/soave424/pythondata/blob/main/%EB%B3%91%EC%95%84%EB%A6%AC%EB%B0%985%EC%A3%BC%EC%B0%A8%EB%AF%B8%EC%85%98(%EC%A3%A0%EC%9D%B4).ipynb\" target=\"_parent\"><img src=\"https://colab.research.google.com/assets/colab-badge.svg\" alt=\"Open In Colab\"/></a>"
      ]
    },
    {
      "cell_type": "markdown",
      "source": [
        "# 개인프로젝트\n",
        "- 1인 1역 정하기 \n",
        "1. 1인 1역 이름 / 내용 입력 (csv)\n",
        "2. 학생 명단 (csv) \n",
        "3. 역할별 학생 수 정하기 \n",
        "4. 학생 배정 (랜덤) \n",
        "5. 순서대로 다음 역할 나오는 옵션 / 랜덤 옵션\n",
        "6. 랜덤으로 했을 때 몇 번씩 했는지 그래프 \n",
        "7. 만약 3번 이상 반복이면 다른 역할 배정 "
      ],
      "metadata": {
        "id": "AHV1ir8o8D4d"
      }
    },
    {
      "cell_type": "code",
      "source": [
        "# 한글폰트 설치\n",
        "!apt-get install fonts-nanum -qq > /dev/null\n",
        "!fc-cache -fv\n",
        "import matplotlib as mpl\n",
        "plt.rc('font', family = 'NanumGothic')\n",
        "plt.rcParams['axes.unicode_minus'] = False\n",
        "plt.title('한글폰트 설치 완료')\n",
        "mpl.font_manager._rebuild()\n",
        "findfont = mpl.font_manager.fontManager.findfont\n",
        "mpl.font_manager.findfont = findfont\n",
        "mpl.backends.backend_agg.findfont = findfont"
      ],
      "metadata": {
        "id": "mrwI_8AI_XQV"
      },
      "execution_count": null,
      "outputs": []
    },
    {
      "cell_type": "code",
      "source": [
        "# 파일 업로드 라이브러리 "
      ],
      "metadata": {
        "id": "pV9nVxJ7e6Tg"
      },
      "execution_count": null,
      "outputs": []
    },
    {
      "cell_type": "code",
      "execution_count": 27,
      "metadata": {
        "id": "UBBtRGiU7_Mw",
        "colab": {
          "base_uri": "https://localhost:8080/"
        },
        "outputId": "d1331b43-8e48-4450-a232-08cdf63f0098"
      },
      "outputs": [
        {
          "output_type": "stream",
          "name": "stdout",
          "text": [
            "{'kim1': '급식', 'kim2': '급식', 'kim3': '급식', 'kim4': '급식', 'kim5': '급식', 'kim6': '검사', 'kim7': '교실 앞 쓸기', 'kim8': '교실 뒤 쓸기', 'kim9': '칠판', 'kim10': '칠판'}\n"
          ]
        }
      ],
      "source": [
        "#1인 1역 CSV 데이터 처리 \n",
        "\n",
        "import csv\n",
        "data = csv.reader(open('roll.csv'))\n",
        "next(data)\n",
        "student=['kim1','kim2','kim3','kim4','kim5','kim6','kim7','kim8','kim9','kim10']\n",
        "rollall=[]\n",
        "rolllist={}\n",
        "rollper={}\n",
        "for row in data : \n",
        "  rolllist[row[0]]=row[1]\n",
        "  rollper[row[0]]=int(row[2])\n",
        "  for i in range(int(row[2])):\n",
        "    rollall.append(row[0])\n",
        "\n",
        "match={K:V for K,V in zip(student,rollall)}\n",
        "print(match)"
      ]
    },
    {
      "cell_type": "code",
      "source": [
        "# 학생명단 "
      ],
      "metadata": {
        "id": "spMRMc3l9p-h"
      },
      "execution_count": null,
      "outputs": []
    },
    {
      "cell_type": "code",
      "source": [
        "items=[[1,2,3,4,5],['a','b','c','d','e']]\n",
        "from itertools import product\n",
        "\n",
        "print(list(product(*items)))\n"
      ],
      "metadata": {
        "id": "J-p1cBr_k8l_",
        "outputId": "f02e5502-698e-48a6-fde8-a1032bc8e4a6",
        "colab": {
          "base_uri": "https://localhost:8080/"
        }
      },
      "execution_count": 15,
      "outputs": [
        {
          "output_type": "stream",
          "name": "stdout",
          "text": [
            "[(1, 'a'), (1, 'b'), (1, 'c'), (1, 'd'), (1, 'e'), (2, 'a'), (2, 'b'), (2, 'c'), (2, 'd'), (2, 'e'), (3, 'a'), (3, 'b'), (3, 'c'), (3, 'd'), (3, 'e'), (4, 'a'), (4, 'b'), (4, 'c'), (4, 'd'), (4, 'e'), (5, 'a'), (5, 'b'), (5, 'c'), (5, 'd'), (5, 'e')]\n"
          ]
        }
      ]
    }
  ]
}